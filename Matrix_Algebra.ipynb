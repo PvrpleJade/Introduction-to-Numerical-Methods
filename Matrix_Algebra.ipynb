{
  "nbformat": 4,
  "nbformat_minor": 0,
  "metadata": {
    "colab": {
      "name": "Matrix Algebra",
      "provenance": [],
      "authorship_tag": "ABX9TyNB6wUFBCFVGFQEjSsrtg0j",
      "include_colab_link": true
    },
    "kernelspec": {
      "name": "python3",
      "display_name": "Python 3"
    },
    "language_info": {
      "name": "python"
    }
  },
  "cells": [
    {
      "cell_type": "markdown",
      "metadata": {
        "id": "view-in-github",
        "colab_type": "text"
      },
      "source": [
        "<a href=\"https://colab.research.google.com/github/PvrpleJade/Numerical-Methods/blob/main/Matrix_Algebra.ipynb\" target=\"_parent\"><img src=\"https://colab.research.google.com/assets/colab-badge.svg\" alt=\"Open In Colab\"/></a>"
      ]
    },
    {
      "cell_type": "markdown",
      "metadata": {
        "id": "pGCC-2iRURrY"
      },
      "source": [
        "##Matrix and its Operation"
      ]
    },
    {
      "cell_type": "code",
      "metadata": {
        "colab": {
          "base_uri": "https://localhost:8080/"
        },
        "id": "lnCV1533UawV",
        "outputId": "32410809-c0c1-45de-e7fa-2235012b8a6a"
      },
      "source": [
        "import numpy as np\n",
        "a = np.array([1,2,3]) #This is 1x3 array\n",
        "print (a)\n",
        "print (a.shape)"
      ],
      "execution_count": 8,
      "outputs": [
        {
          "output_type": "stream",
          "name": "stdout",
          "text": [
            "[1 2 3]\n",
            "(3,)\n"
          ]
        }
      ]
    },
    {
      "cell_type": "code",
      "metadata": {
        "colab": {
          "base_uri": "https://localhost:8080/"
        },
        "id": "tNY4K1FWUziB",
        "outputId": "c3e5c2f6-a34b-4367-f052-0a5fd0d312ae"
      },
      "source": [
        "import numpy as np\n",
        "b = np.array([[1,2,3],[4,5,6]]) #This is an example of 2x3 array\n",
        "print (b)\n",
        "print (b.shape)\n",
        "b[0,0] = 7\n",
        "b[1,2] = 3\n",
        "print (b)"
      ],
      "execution_count": 19,
      "outputs": [
        {
          "output_type": "stream",
          "name": "stdout",
          "text": [
            "[[1 2 3]\n",
            " [4 5 6]]\n",
            "(2, 3)\n",
            "[[7 2 3]\n",
            " [4 5 3]]\n"
          ]
        }
      ]
    },
    {
      "cell_type": "code",
      "metadata": {
        "colab": {
          "base_uri": "https://localhost:8080/"
        },
        "id": "6Kev6mX7XNNt",
        "outputId": "8f85ed58-0dba-4fb7-dc92-fee37cfb150a"
      },
      "source": [
        "import numpy as np\n",
        "c = np.array ([[1,2,3],[4,5,6],[7,8,9]])#this is an example of square matrix\n",
        "print (c)"
      ],
      "execution_count": 21,
      "outputs": [
        {
          "output_type": "stream",
          "name": "stdout",
          "text": [
            "[[1 2 3]\n",
            " [4 5 6]\n",
            " [7 8 9]]\n"
          ]
        }
      ]
    },
    {
      "cell_type": "code",
      "metadata": {
        "colab": {
          "base_uri": "https://localhost:8080/"
        },
        "id": "sOgxUs-DXsW1",
        "outputId": "60e07619-0ead-4728-bd5f-a4849d469cc7"
      },
      "source": [
        "import numpy as np\n",
        "d = np.full((2,2),4)\n",
        "print (d)"
      ],
      "execution_count": 26,
      "outputs": [
        {
          "output_type": "stream",
          "name": "stdout",
          "text": [
            "[[4 4]\n",
            " [4 4]]\n"
          ]
        }
      ]
    },
    {
      "cell_type": "code",
      "metadata": {
        "colab": {
          "base_uri": "https://localhost:8080/"
        },
        "id": "unlUkIk6YH4u",
        "outputId": "03ec3af2-6a53-4253-85cd-7ae6a6e04b3a"
      },
      "source": [
        "import numpy as np\n",
        "e = np.eye(2)\n",
        "print (e)"
      ],
      "execution_count": 33,
      "outputs": [
        {
          "output_type": "stream",
          "name": "stdout",
          "text": [
            "[[1. 0.]\n",
            " [0. 1.]]\n"
          ]
        }
      ]
    },
    {
      "cell_type": "code",
      "metadata": {
        "colab": {
          "base_uri": "https://localhost:8080/"
        },
        "id": "eZG2IuWSYln2",
        "outputId": "898bc7b0-2d78-4813-9ed8-aa2c614f30e5"
      },
      "source": [
        "import numpy as np\n",
        "e = np. diagonal([[1,2,3],[4,5,6],[7,8,9]])\n",
        "print (e)\n",
        "\n"
      ],
      "execution_count": 42,
      "outputs": [
        {
          "output_type": "stream",
          "name": "stdout",
          "text": [
            "[1 5 9]\n"
          ]
        }
      ]
    },
    {
      "cell_type": "code",
      "metadata": {
        "colab": {
          "base_uri": "https://localhost:8080/"
        },
        "id": "AY3k3dZdZ00w",
        "outputId": "a9cb06a9-2638-438c-8518-c5a4e11068b4"
      },
      "source": [
        "import numpy as np\n",
        "f = np.empty((0,10))\n",
        "print (f)"
      ],
      "execution_count": 44,
      "outputs": [
        {
          "output_type": "stream",
          "name": "stdout",
          "text": [
            "[]\n"
          ]
        }
      ]
    },
    {
      "cell_type": "code",
      "metadata": {
        "colab": {
          "base_uri": "https://localhost:8080/"
        },
        "id": "pFRh5XFzaAww",
        "outputId": "e79da52a-b11e-427e-f14f-a3e05297bf64"
      },
      "source": [
        "import numpy as np\n",
        "g = np.zeros((2,2))\n",
        "print (g)"
      ],
      "execution_count": 50,
      "outputs": [
        {
          "output_type": "stream",
          "name": "stdout",
          "text": [
            "[[0. 0.]\n",
            " [0. 0.]]\n"
          ]
        }
      ]
    },
    {
      "cell_type": "code",
      "metadata": {
        "colab": {
          "base_uri": "https://localhost:8080/"
        },
        "id": "1oMrzUYPakWs",
        "outputId": "7229222a-6f7d-41a8-c306-53826544f15a"
      },
      "source": [
        "import numpy as np\n",
        "e = np.eye(2)\n",
        "g = np.zeros((2,2))\n",
        "print(e)\n",
        "print(g)\n",
        "print (e+g)\n",
        "print(e-g)\n"
      ],
      "execution_count": 56,
      "outputs": [
        {
          "output_type": "stream",
          "name": "stdout",
          "text": [
            "[[1. 0.]\n",
            " [0. 1.]]\n",
            "[[0. 0.]\n",
            " [0. 0.]]\n",
            "[[1. 0.]\n",
            " [0. 1.]]\n",
            "[[1. 0.]\n",
            " [0. 1.]]\n"
          ]
        }
      ]
    }
  ]
}