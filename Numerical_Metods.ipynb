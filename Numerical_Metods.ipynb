{
  "nbformat": 4,
  "nbformat_minor": 0,
  "metadata": {
    "colab": {
      "name": "Numerical Metods.ipynb",
      "provenance": []
    },
    "kernelspec": {
      "name": "python3",
      "display_name": "Python 3"
    },
    "language_info": {
      "name": "python"
    }
  },
  "cells": [
    {
      "cell_type": "markdown",
      "metadata": {
        "id": "N7uDirsKNkYp"
      },
      "source": [
        ""
      ]
    },
    {
      "cell_type": "markdown",
      "metadata": {
        "id": "LyYuGtpeN77q"
      },
      "source": [
        "#Intro To Numerical Methods\n",
        "##Demonstration"
      ]
    },
    {
      "cell_type": "code",
      "metadata": {
        "colab": {
          "base_uri": "https://localhost:8080/"
        },
        "id": "ceaKGtJKOIwi",
        "outputId": "de353d3c-3cab-482e-f66f-929fedf99394"
      },
      "source": [
        "b ='Sally'\n",
        "b = int(4)\n",
        "print (b)\n",
        "\n",
        "b = float(4)\n",
        "print (b)"
      ],
      "execution_count": 5,
      "outputs": [
        {
          "output_type": "stream",
          "text": [
            "4\n",
            "4.0\n"
          ],
          "name": "stdout"
        }
      ]
    },
    {
      "cell_type": "code",
      "metadata": {
        "colab": {
          "base_uri": "https://localhost:8080/"
        },
        "id": "UOAfJsmnQU3B",
        "outputId": "16954f94-d5bb-41d5-af28-44f61445502f"
      },
      "source": [
        "b = 'Sally'\n",
        "B = 4\n",
        "print (b)"
      ],
      "execution_count": 8,
      "outputs": [
        {
          "output_type": "stream",
          "text": [
            "Sally\n"
          ],
          "name": "stdout"
        }
      ]
    },
    {
      "cell_type": "code",
      "metadata": {
        "colab": {
          "base_uri": "https://localhost:8080/"
        },
        "id": "6bCJKP1GQvJI",
        "outputId": "c2f629d1-f411-44e9-a85e-3b8ea9bed35c"
      },
      "source": [
        "x, y ,z = 'one','two','three'\n",
        "print (x,y,z)"
      ],
      "execution_count": 9,
      "outputs": [
        {
          "output_type": "stream",
          "text": [
            "one two three\n"
          ],
          "name": "stdout"
        }
      ]
    },
    {
      "cell_type": "code",
      "metadata": {
        "colab": {
          "base_uri": "https://localhost:8080/"
        },
        "id": "2gzG-lGZQ82l",
        "outputId": "9104506b-c862-4848-d7af-9b603941a419"
      },
      "source": [
        "x=y=z= 'four'\n",
        "print (x,y,z)"
      ],
      "execution_count": 10,
      "outputs": [
        {
          "output_type": "stream",
          "text": [
            "four four four\n"
          ],
          "name": "stdout"
        }
      ]
    },
    {
      "cell_type": "code",
      "metadata": {
        "colab": {
          "base_uri": "https://localhost:8080/"
        },
        "id": "Sx1AeX_ERSLB",
        "outputId": "3f0a523a-04d0-441f-fb20-37daec979f10"
      },
      "source": [
        "x = 'enjoying'\n",
        "print (\"python programming is \"+x)"
      ],
      "execution_count": 11,
      "outputs": [
        {
          "output_type": "stream",
          "text": [
            "python programming is enjoying\n"
          ],
          "name": "stdout"
        }
      ]
    },
    {
      "cell_type": "code",
      "metadata": {
        "colab": {
          "base_uri": "https://localhost:8080/"
        },
        "id": "W91MoZ9DSmyE",
        "outputId": "c6d2e2b7-a1f5-4060-c8ec-93434ad4d37e"
      },
      "source": [
        "x = 'enjoying'\n",
        "y = 'python programming is '\n",
        "z = y+x\n",
        "print (z)"
      ],
      "execution_count": 13,
      "outputs": [
        {
          "output_type": "stream",
          "text": [
            "python programming is enjoying\n"
          ],
          "name": "stdout"
        }
      ]
    },
    {
      "cell_type": "code",
      "metadata": {
        "colab": {
          "base_uri": "https://localhost:8080/"
        },
        "id": "vsUIaAw2TDV1",
        "outputId": "5862ea91-63a7-4fe1-cf0c-f745f2a6ef8b"
      },
      "source": [
        "x = 5\n",
        "y = 3\n",
        "sum = x + y\n",
        "sum"
      ],
      "execution_count": 15,
      "outputs": [
        {
          "output_type": "execute_result",
          "data": {
            "text/plain": [
              "8"
            ]
          },
          "metadata": {},
          "execution_count": 15
        }
      ]
    },
    {
      "cell_type": "code",
      "metadata": {
        "id": "0vNUZlUrUAlJ"
      },
      "source": [
        ""
      ],
      "execution_count": null,
      "outputs": []
    }
  ]
}