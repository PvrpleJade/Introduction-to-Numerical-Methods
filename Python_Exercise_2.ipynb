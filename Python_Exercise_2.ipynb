{
  "nbformat": 4,
  "nbformat_minor": 0,
  "metadata": {
    "colab": {
      "name": "Python Exercise 2.ipynb",
      "provenance": [],
      "authorship_tag": "ABX9TyNXjWlHGs8W2GsRfKO8sC0g",
      "include_colab_link": true
    },
    "kernelspec": {
      "name": "python3",
      "display_name": "Python 3"
    },
    "language_info": {
      "name": "python"
    }
  },
  "cells": [
    {
      "cell_type": "markdown",
      "metadata": {
        "id": "view-in-github",
        "colab_type": "text"
      },
      "source": [
        "<a href=\"https://colab.research.google.com/github/PvrpleJade/Numerical-Methods/blob/main/Python_Exercise_2.ipynb\" target=\"_parent\"><img src=\"https://colab.research.google.com/assets/colab-badge.svg\" alt=\"Open In Colab\"/></a>"
      ]
    },
    {
      "cell_type": "markdown",
      "metadata": {
        "id": "LJmIsrZKb8ko"
      },
      "source": [
        "#Matrix and its Operation"
      ]
    },
    {
      "cell_type": "code",
      "metadata": {
        "colab": {
          "base_uri": "https://localhost:8080/"
        },
        "id": "yp6NycQJdAWe",
        "outputId": "2dca03a4-c2ad-491e-8795-419901e6221d"
      },
      "source": [
        "import numpy as np\n",
        "a = np.array([[-5,0],[4,1]])\n",
        "print (a)\n",
        "b = np.array([[6,-3],[2,3]])\n",
        "print (b)\n",
        "sum = a+b\n",
        "diff1 = b-a\n",
        "diff2 = a-b\n",
        "print (sum)\n",
        "print (diff1)\n",
        "print (diff2)\n",
        "\n"
      ],
      "execution_count": 6,
      "outputs": [
        {
          "output_type": "stream",
          "name": "stdout",
          "text": [
            "[[-5  0]\n",
            " [ 4  1]]\n",
            "[[ 6 -3]\n",
            " [ 2  3]]\n",
            "[[ 1 -3]\n",
            " [ 6  4]]\n",
            "[[11 -3]\n",
            " [-2  2]]\n",
            "[[-11   3]\n",
            " [  2  -2]]\n"
          ]
        }
      ]
    }
  ]
}