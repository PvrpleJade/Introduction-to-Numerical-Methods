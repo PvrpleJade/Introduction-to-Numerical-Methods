{
  "nbformat": 4,
  "nbformat_minor": 0,
  "metadata": {
    "colab": {
      "name": "Python Exercise 2.ipynb",
      "provenance": [],
      "authorship_tag": "ABX9TyMfMfESHmEWADq0or4nZR+q",
      "include_colab_link": true
    },
    "kernelspec": {
      "name": "python3",
      "display_name": "Python 3"
    },
    "language_info": {
      "name": "python"
    }
  },
  "cells": [
    {
      "cell_type": "markdown",
      "metadata": {
        "id": "view-in-github",
        "colab_type": "text"
      },
      "source": [
        "<a href=\"https://colab.research.google.com/github/PvrpleJade/Numerical-Methods/blob/main/Python_Exercise_2.ipynb\" target=\"_parent\"><img src=\"https://colab.research.google.com/assets/colab-badge.svg\" alt=\"Open In Colab\"/></a>"
      ]
    },
    {
      "cell_type": "markdown",
      "metadata": {
        "id": "LJmIsrZKb8ko"
      },
      "source": [
        "#Matrix and its Operation\n",
        "###Test Content\n",
        "\n",
        "###Create a NumPy program that performs the operations of the given matrices:\n",
        "\n",
        "#####1.sum = A +B\n",
        "#####2.difference1 = B - A\n",
        "#####3.difference2 = A - B\n"
      ]
    },
    {
      "cell_type": "markdown",
      "metadata": {
        "id": "OImyqKvFfZby"
      },
      "source": [
        "#SUM"
      ]
    },
    {
      "cell_type": "code",
      "metadata": {
        "colab": {
          "base_uri": "https://localhost:8080/"
        },
        "id": "yp6NycQJdAWe",
        "outputId": "a850885d-6ad8-4d9a-8010-a615bf2655b7"
      },
      "source": [
        "import numpy as np\n",
        "a = np.array([[-5,0],[4,1]])\n",
        "print (a)\n",
        "b = np.array([[6,-3],[2,3]])\n",
        "print (b)\n",
        "sum = a+b\n",
        "diff1 = b-a\n",
        "diff2 = a-b\n",
        "print (sum)\n",
        "\n"
      ],
      "execution_count": 9,
      "outputs": [
        {
          "output_type": "stream",
          "name": "stdout",
          "text": [
            "[[-5  0]\n",
            " [ 4  1]]\n",
            "[[ 6 -3]\n",
            " [ 2  3]]\n",
            "[[ 1 -3]\n",
            " [ 6  4]]\n"
          ]
        }
      ]
    },
    {
      "cell_type": "markdown",
      "metadata": {
        "id": "c-E1IL57fcV1"
      },
      "source": [
        "#Difference 1"
      ]
    },
    {
      "cell_type": "code",
      "metadata": {
        "colab": {
          "base_uri": "https://localhost:8080/"
        },
        "id": "tkI-IbX2e_TJ",
        "outputId": "253be700-b14d-4a87-f318-2977b018ef07"
      },
      "source": [
        "a = np.array([[-5,0],[4,1]])\n",
        "print (a)\n",
        "b = np.array([[6,-3],[2,3]])\n",
        "print (b)\n",
        "print (diff1)"
      ],
      "execution_count": 10,
      "outputs": [
        {
          "output_type": "stream",
          "name": "stdout",
          "text": [
            "[[-5  0]\n",
            " [ 4  1]]\n",
            "[[ 6 -3]\n",
            " [ 2  3]]\n",
            "[[11 -3]\n",
            " [-2  2]]\n"
          ]
        }
      ]
    },
    {
      "cell_type": "markdown",
      "metadata": {
        "id": "ldhKmVQBff0B"
      },
      "source": [
        "#Difference 2"
      ]
    },
    {
      "cell_type": "code",
      "metadata": {
        "colab": {
          "base_uri": "https://localhost:8080/"
        },
        "id": "P48s9clPfEs6",
        "outputId": "17c1dbdd-c135-4860-d861-36815b61e2e2"
      },
      "source": [
        "a = np.array([[-5,0],[4,1]])\n",
        "print (a)\n",
        "b = np.array([[6,-3],[2,3]])\n",
        "print (b)\n",
        "print (diff2)"
      ],
      "execution_count": 11,
      "outputs": [
        {
          "output_type": "stream",
          "name": "stdout",
          "text": [
            "[[-5  0]\n",
            " [ 4  1]]\n",
            "[[ 6 -3]\n",
            " [ 2  3]]\n",
            "[[-11   3]\n",
            " [  2  -2]]\n"
          ]
        }
      ]
    }
  ]
}