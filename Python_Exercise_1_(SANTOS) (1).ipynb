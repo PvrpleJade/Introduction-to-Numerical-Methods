{
  "nbformat": 4,
  "nbformat_minor": 0,
  "metadata": {
    "colab": {
      "name": "Python Exercise 1 (SANTOS).ipynb",
      "provenance": []
    },
    "kernelspec": {
      "name": "python3",
      "display_name": "Python 3"
    },
    "language_info": {
      "name": "python"
    }
  },
  "cells": [
    {
      "cell_type": "markdown",
      "metadata": {
        "id": "uA41G860aSGf"
      },
      "source": [
        "#Python Exercise 1 \n",
        "##Semestral Grade\n",
        "### SANTOS, Franz Nico S."
      ]
    },
    {
      "cell_type": "code",
      "metadata": {
        "id": "JoNsW763ehdP"
      },
      "source": [
        ""
      ],
      "execution_count": null,
      "outputs": []
    },
    {
      "cell_type": "code",
      "metadata": {
        "colab": {
          "base_uri": "https://localhost:8080/"
        },
        "id": "VoCIGnWDadw1",
        "outputId": "8bb99337-5906-4d19-87ed-d8fee3a044ac"
      },
      "source": [
        "print (\"Enter Your Name: \")\n",
        "name = input()\n",
        "print (\"Enter Prelim Grade:\")\n",
        "pre = int(input())\n",
        "print (\"Enter Midterm Grade:\")\n",
        "mid = int (input())\n",
        "print (\"Enter Final Grade:\")\n",
        "fin = int(input())\n",
        "sem = (0.30*pre)+(0.30*mid)+(0.40*fin)\n",
        "print (name+\" Your Semestral Grade is: \")\n",
        "sem \n"
      ],
      "execution_count": 23,
      "outputs": [
        {
          "output_type": "stream",
          "text": [
            "Enter Your Name: \n",
            "Franz Santos\n",
            "Enter Prelim Grade:\n",
            "89\n",
            "Enter Midterm Grade:\n",
            "85\n",
            "Enter Final Grade:\n",
            "79\n",
            "Franz Santos Your Semestral Grade is: \n"
          ],
          "name": "stdout"
        },
        {
          "output_type": "execute_result",
          "data": {
            "text/plain": [
              "83.80000000000001"
            ]
          },
          "metadata": {},
          "execution_count": 23
        }
      ]
    }
  ]
}