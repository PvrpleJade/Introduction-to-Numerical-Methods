{
  "nbformat": 4,
  "nbformat_minor": 0,
  "metadata": {
    "colab": {
      "name": "Python Exercise 1 (SANTOS).ipynb",
      "provenance": []
    },
    "kernelspec": {
      "name": "python3",
      "display_name": "Python 3"
    },
    "language_info": {
      "name": "python"
    }
  },
  "cells": [
    {
      "cell_type": "markdown",
      "metadata": {
        "id": "uA41G860aSGf"
      },
      "source": [
        "#Python Exercise 1 \n",
        "##Semestral Grade\n",
        "### SANTOS, Franz Nico S."
      ]
    },
    {
      "cell_type": "code",
      "metadata": {
        "id": "JoNsW763ehdP"
      },
      "source": [
        ""
      ],
      "execution_count": null,
      "outputs": []
    },
    {
      "cell_type": "code",
      "metadata": {
        "colab": {
          "base_uri": "https://localhost:8080/"
        },
        "id": "VoCIGnWDadw1",
        "outputId": "61cfaf62-d166-408b-fe4c-151180048fbf"
      },
      "source": [
        "print (\"Enter Your Name: \")\n",
        "name = input()\n",
        "print (\"Enter Your Course:\")\n",
        "course = input()\n",
        "print (\"Enter Prelim Grade:\")\n",
        "pre = int(input())\n",
        "print (\"Enter Midterm Grade:\")\n",
        "mid = int (input())\n",
        "print (\"Enter Final Grade:\")\n",
        "fin = int(input())\n",
        "sem = (0.30*pre)+(0.30*mid)+(0.40*fin)\n",
        "print (name)\n",
        "print (course)\n",
        "print (\"Your Semestral Grade is: \")\n",
        "sem \n"
      ],
      "execution_count": null,
      "outputs": [
        {
          "output_type": "stream",
          "text": [
            "Enter Your Name: \n",
            "Franz Santos\n",
            "Enter Your Course:\n",
            "Computer Engineering\n",
            "Enter Prelim Grade:\n",
            "87\n",
            "Enter Midterm Grade:\n",
            "92\n",
            "Enter Final Grade:\n",
            "81\n",
            "Franz Santos\n",
            "Computer Engineering\n",
            "Your Semestral Grade is: \n"
          ],
          "name": "stdout"
        },
        {
          "output_type": "execute_result",
          "data": {
            "text/plain": [
              "86.1"
            ]
          },
          "metadata": {},
          "execution_count": 32
        }
      ]
    }
  ]
}