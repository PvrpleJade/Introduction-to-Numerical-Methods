{
  "nbformat": 4,
  "nbformat_minor": 0,
  "metadata": {
    "colab": {
      "name": "Python Exercise 1 (SANTOS).ipynb",
      "provenance": []
    },
    "kernelspec": {
      "name": "python3",
      "display_name": "Python 3"
    },
    "language_info": {
      "name": "python"
    }
  },
  "cells": [
    {
      "cell_type": "markdown",
      "metadata": {
        "id": "uA41G860aSGf"
      },
      "source": [
        "#Python Exercise 1 \n",
        "##Semestral Grade\n",
        "### SANTOS, Franz Nico S."
      ]
    },
    {
      "cell_type": "code",
      "metadata": {
        "id": "JoNsW763ehdP"
      },
      "source": [
        ""
      ],
      "execution_count": null,
      "outputs": []
    },
    {
      "cell_type": "code",
      "metadata": {
        "colab": {
          "base_uri": "https://localhost:8080/"
        },
        "id": "VoCIGnWDadw1",
        "outputId": "14b82c42-5a6f-499f-ac2f-b23b1475244c"
      },
      "source": [
        "print (\"Enter Prelim Grade\")\n",
        "pre = int(input())\n",
        "print (\"Enter Midterm Grade\")\n",
        "mid = int (input())\n",
        "print (\"Enter Final Grade\")\n",
        "fin = int(input())\n",
        "sem = (0.30*pre)+(0.30*mid)+(0.40*fin)\n",
        "print (\"Your Semestral Grade is: \")\n",
        "sem \n"
      ],
      "execution_count": 17,
      "outputs": [
        {
          "output_type": "stream",
          "text": [
            "Enter Prelim Grade\n",
            "87\n",
            "Enter Midterm Grade\n",
            "90\n",
            "Enter Final Grade\n",
            "75\n",
            "Your Semestral Grade is: \n"
          ],
          "name": "stdout"
        },
        {
          "output_type": "execute_result",
          "data": {
            "text/plain": [
              "83.1"
            ]
          },
          "metadata": {},
          "execution_count": 17
        }
      ]
    }
  ]
}